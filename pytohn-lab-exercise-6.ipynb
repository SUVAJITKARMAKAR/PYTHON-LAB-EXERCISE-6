{
 "cells": [
  {
   "cell_type": "markdown",
   "metadata": {},
   "source": [
    "# LAB - EXERCISE - 6"
   ]
  },
  {
   "cell_type": "markdown",
   "metadata": {},
   "source": [
    "#### A PROGRAM ON REGULAR EXPRESSION THAT SEARCHES FOR A STRING WITH VALID PHONE NUMBER "
   ]
  },
  {
   "cell_type": "code",
   "execution_count": 6,
   "metadata": {},
   "outputs": [
    {
     "name": "stdout",
     "output_type": "stream",
     "text": [
      "PHONE NUMBER FOUND AS : (861)-749-4264\n"
     ]
    }
   ],
   "source": [
    "import re\n",
    "\n",
    "def _phone_number_check(input_string):\n",
    "    phone_pattern = re.compile(r'(\\(\\d{3}\\)-\\d{3}-\\d{4}|\\d{3}-\\d{3}-\\d{4})')\n",
    "    match = phone_pattern.search(input_string)\n",
    "    \n",
    "    if match:\n",
    "        return match.group()\n",
    "    else:\n",
    "        return None\n",
    "\n",
    "# Input from the user\n",
    "text = input(\"ENTER THE PHONE NUMBER TO CHECK IT'S VALIDITY : \")\n",
    "\n",
    "# Call the function to search for a phone number\n",
    "phone_number = _phone_number_check(text)\n",
    "\n",
    "# Display the result\n",
    "if phone_number:\n",
    "    print(\"PHONE NUMBER FOUND AS :\", phone_number)\n",
    "else:\n",
    "    print(\"THERE IS NO VALID PHONE NUMBER FOUND.\")\n",
    "\n"
   ]
  },
  {
   "cell_type": "markdown",
   "metadata": {},
   "source": [
    "#### CHECKING OF STRONG PASSWORD CHECK USING REGULAR EXPRESSION"
   ]
  },
  {
   "cell_type": "code",
   "execution_count": 10,
   "metadata": {},
   "outputs": [
    {
     "name": "stdout",
     "output_type": "stream",
     "text": [
      "PASSWORD CREATED IS STRONG.\n"
     ]
    }
   ],
   "source": [
    "import re\n",
    "\n",
    "def check_password_strength(password):\n",
    "    # Regular expression for checking all the conditions provided contains in the password.\n",
    "    pattern = r'^(?=.*[A-Z])(?=.*[a-z])(?=.*\\d)(?=.*[@$!%*?&])[A-Za-z\\d@$!%*?&]{8,}$'\n",
    "    \n",
    "    if re.match(pattern, password):\n",
    "        return True\n",
    "    else:\n",
    "        return False\n",
    "\n",
    "# User input section \n",
    "password = input(\"PLEASE ENTER YOUR PASSWORD : \")\n",
    "\n",
    "# Condition for checking the password \n",
    "if check_password_strength(password):\n",
    "    print(\"PASSWORD CREATED IS STRONG.\")\n",
    "else:\n",
    "    print(\"PASSWORD CREATED IS NOT STRONG.\")\n"
   ]
  }
 ],
 "metadata": {
  "kernelspec": {
   "display_name": "Python 3",
   "language": "python",
   "name": "python3"
  },
  "language_info": {
   "codemirror_mode": {
    "name": "ipython",
    "version": 3
   },
   "file_extension": ".py",
   "mimetype": "text/x-python",
   "name": "python",
   "nbconvert_exporter": "python",
   "pygments_lexer": "ipython3",
   "version": "3.10.12"
  },
  "orig_nbformat": 4
 },
 "nbformat": 4,
 "nbformat_minor": 2
}
